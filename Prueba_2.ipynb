{
 "cells": [
  {
   "cell_type": "code",
   "execution_count": 1,
   "id": "ab636d7d",
   "metadata": {},
   "outputs": [
    {
     "name": "stdout",
     "output_type": "stream",
     "text": [
      "Prueba 2\n"
     ]
    }
   ],
   "source": [
    "print('Prueba 2')"
   ]
  },
  {
   "cell_type": "code",
   "execution_count": null,
   "id": "13a5d295",
   "metadata": {},
   "outputs": [],
   "source": []
  }
 ],
 "metadata": {
  "kernelspec": {
   "display_name": "Python [conda env:dhdsblend2021_clase10]",
   "language": "python",
   "name": "conda-env-dhdsblend2021_clase10-py"
  },
  "language_info": {
   "codemirror_mode": {
    "name": "ipython",
    "version": 3
   },
   "file_extension": ".py",
   "mimetype": "text/x-python",
   "name": "python",
   "nbconvert_exporter": "python",
   "pygments_lexer": "ipython3",
   "version": "3.7.10"
  }
 },
 "nbformat": 4,
 "nbformat_minor": 5
}
